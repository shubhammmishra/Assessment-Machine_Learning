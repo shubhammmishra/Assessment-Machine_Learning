{
 "cells": [
  {
   "cell_type": "code",
   "execution_count": 5,
   "id": "fbe3c561",
   "metadata": {},
   "outputs": [],
   "source": [
    "def search(matrix, target):\n",
    "    if not matrix or len(matrix) == 0 or len(matrix[0]) == 0:\n",
    "        return False\n",
    "    \n",
    "    m, n = len(matrix), len(matrix[0])\n",
    "    \n",
    "    left, right = 0, m * n - 1\n",
    "    \n",
    "    while left <= right:\n",
    "        mid = (left + right) // 2\n",
    "        \n",
    "        mid_value = matrix[mid // n][n - 1 - (mid % n)] \n",
    "        \n",
    "        if mid_value == target:\n",
    "            return True\n",
    "        elif mid_value < target:\n",
    "            right = mid - 1\n",
    "        else:\n",
    "            left = mid + 1\n",
    "    \n",
    "    return False\n"
   ]
  },
  {
   "cell_type": "code",
   "execution_count": 6,
   "id": "cecee9d1",
   "metadata": {},
   "outputs": [
    {
     "name": "stdout",
     "output_type": "stream",
     "text": [
      "enter your matrix and target\n",
      "enter your matrix here[[1,3,5,7],[10,11,16,20],[23,30,34,60]]\n",
      "enter your target value3\n"
     ]
    },
    {
     "data": {
      "text/plain": [
       "True"
      ]
     },
     "execution_count": 6,
     "metadata": {},
     "output_type": "execute_result"
    }
   ],
   "source": [
    "print('enter your matrix and target')\n",
    "matrix= input('enter your matrix here')\n",
    "target= input('enter your target value')\n",
    "search(matrix,target)"
   ]
  },
  {
   "cell_type": "code",
   "execution_count": null,
   "id": "d00c0199",
   "metadata": {},
   "outputs": [],
   "source": []
  }
 ],
 "metadata": {
  "kernelspec": {
   "display_name": "Python 3 (ipykernel)",
   "language": "python",
   "name": "python3"
  },
  "language_info": {
   "codemirror_mode": {
    "name": "ipython",
    "version": 3
   },
   "file_extension": ".py",
   "mimetype": "text/x-python",
   "name": "python",
   "nbconvert_exporter": "python",
   "pygments_lexer": "ipython3",
   "version": "3.10.13"
  }
 },
 "nbformat": 4,
 "nbformat_minor": 5
}
