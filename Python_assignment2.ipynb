{
 "cells": [
  {
   "cell_type": "code",
   "execution_count": 25,
   "id": "f66bc21b",
   "metadata": {},
   "outputs": [],
   "source": [
    "def myfunction(string):\n",
    "    words = string.split()\n",
    "    word_counts = {}\n",
    "    for word in words:\n",
    "        if word in word_counts:\n",
    "            word_counts[word] += 1\n",
    "        else:\n",
    "            word_counts[word] = 1\n",
    "    highest_frequency = max(word_counts.values())\n",
    "    \n",
    "    highest_frequency_word_length = max(len(word) for word, count in word_counts.items() if count == highest_frequency)\n",
    "    \n",
    "    return highest_frequency_word_length\n",
    "\n"
   ]
  },
  {
   "cell_type": "code",
   "execution_count": 26,
   "id": "257f1e1f",
   "metadata": {},
   "outputs": [
    {
     "name": "stdout",
     "output_type": "stream",
     "text": [
      "Please enter your string here\n",
      "this is my first test file first\n"
     ]
    },
    {
     "data": {
      "text/plain": [
       "5"
      ]
     },
     "execution_count": 26,
     "metadata": {},
     "output_type": "execute_result"
    }
   ],
   "source": [
    "input_string= input('Please enter your string here\\n')\n",
    "myfunction(input_string)"
   ]
  },
  {
   "cell_type": "code",
   "execution_count": 27,
   "id": "dff62476",
   "metadata": {},
   "outputs": [
    {
     "name": "stdout",
     "output_type": "stream",
     "text": [
      "Please enter your string here\n",
      "this is my second test file second\n"
     ]
    },
    {
     "data": {
      "text/plain": [
       "6"
      ]
     },
     "execution_count": 27,
     "metadata": {},
     "output_type": "execute_result"
    }
   ],
   "source": [
    "input_string= input('Please enter your string here\\n')\n",
    "myfunction(input_string)"
   ]
  },
  {
   "cell_type": "code",
   "execution_count": 28,
   "id": "fc6e8b3a",
   "metadata": {},
   "outputs": [
    {
     "name": "stdout",
     "output_type": "stream",
     "text": [
      " Please enter your string here \n",
      "this is my third test fle third\n"
     ]
    },
    {
     "data": {
      "text/plain": [
       "5"
      ]
     },
     "execution_count": 28,
     "metadata": {},
     "output_type": "execute_result"
    }
   ],
   "source": [
    "input_string= input(' Please enter your string here \\n')\n",
    "myfunction(input_string)"
   ]
  },
  {
   "cell_type": "code",
   "execution_count": 29,
   "id": "4406c8f1",
   "metadata": {},
   "outputs": [
    {
     "name": "stdout",
     "output_type": "stream",
     "text": [
      "Please enter your string here\n",
      "this is my fourth test file fourth\n"
     ]
    },
    {
     "data": {
      "text/plain": [
       "6"
      ]
     },
     "execution_count": 29,
     "metadata": {},
     "output_type": "execute_result"
    }
   ],
   "source": [
    "input_string= input('Please enter your string here\\n')\n",
    "myfunction(input_string)"
   ]
  },
  {
   "cell_type": "code",
   "execution_count": null,
   "id": "f3343723",
   "metadata": {},
   "outputs": [],
   "source": []
  }
 ],
 "metadata": {
  "kernelspec": {
   "display_name": "Python 3 (ipykernel)",
   "language": "python",
   "name": "python3"
  },
  "language_info": {
   "codemirror_mode": {
    "name": "ipython",
    "version": 3
   },
   "file_extension": ".py",
   "mimetype": "text/x-python",
   "name": "python",
   "nbconvert_exporter": "python",
   "pygments_lexer": "ipython3",
   "version": "3.10.13"
  }
 },
 "nbformat": 4,
 "nbformat_minor": 5
}
